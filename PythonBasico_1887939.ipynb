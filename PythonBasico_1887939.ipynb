{
 "cells": [
  {
   "cell_type": "markdown",
   "metadata": {},
   "source": [
    "## Ejercicios de Python Básico"
   ]
  },
  {
   "cell_type": "markdown",
   "metadata": {},
   "source": [
    "Autor: Alfonso Llanos Morales, Matricula: 1887939"
   ]
  },
  {
   "cell_type": "markdown",
   "metadata": {},
   "source": [
    "### Ejercicio 1:\n",
    "* Realiza una variable con tu matrícula y realiza una secuencia de imprimir con tu nombre y tu matrícula concatenados."
   ]
  },
  {
   "cell_type": "code",
   "execution_count": 1,
   "metadata": {},
   "outputs": [
    {
     "name": "stdout",
     "output_type": "stream",
     "text": [
      "Yo soy Alfonso Llanos Morales y mi matrícula es 1887939\n"
     ]
    }
   ],
   "source": [
    "Mat = 1887939\n",
    "Nombre = \"Alfonso Llanos Morales\"\n",
    "\n",
    "print(\"Yo soy\",Nombre,\"y mi matrícula es\",Mat)"
   ]
  },
  {
   "cell_type": "markdown",
   "metadata": {},
   "source": [
    "### Ejercicio 2\n",
    "* Pidiendo el input del usuario pide dos números y crea una pequeña calculadora con los operadores básicos de suma, resta, multiplicación, división, y exponente"
   ]
  },
  {
   "cell_type": "code",
   "execution_count": 2,
   "metadata": {},
   "outputs": [
    {
     "name": "stdout",
     "output_type": "stream",
     "text": [
      "Introduce el primer número: 10\n",
      "Introduce el segundo número: 2\n",
      "Calculadora Básica\n",
      "1. Suma A + B\n",
      "2. Resta A - B\n",
      "3. Resta B - A\n",
      "4. Multiplicación A * B\n",
      "5. División A/B\n",
      "6. División B/A\n",
      "7. Exponente A**B\n",
      "8. Exponente B**A\n",
      "Introduce el número de la operación deseada: 4\n",
      "10 * 2 = 20\n"
     ]
    }
   ],
   "source": [
    "A = int(input(\"Introduce el primer número: \"))\n",
    "B = int(input(\"Introduce el segundo número: \"))\n",
    "\n",
    "print(\"Calculadora Básica\")\n",
    "print(\"1. Suma A + B\")\n",
    "print(\"2. Resta A - B\")\n",
    "print(\"3. Resta B - A\")\n",
    "print(\"4. Multiplicación A * B\")\n",
    "print(\"5. División A/B\")\n",
    "print(\"6. División B/A\")\n",
    "print(\"7. Exponente A**B\")\n",
    "print(\"8. Exponente B**A\")\n",
    "op = int(input(\"Introduce el número de la operación deseada: \"))\n",
    "\n",
    "if op == 1:\n",
    "    res = A + B\n",
    "    print(A,\"+\",B,\"=\",res)\n",
    "elif op == 2:\n",
    "    res = A - B\n",
    "    print(A,\"-\",B,\"=\",res)\n",
    "elif op == 3:\n",
    "    res = B - A\n",
    "    print(B,\"-\",A,\"=\",res)\n",
    "elif op == 4:\n",
    "    res = A * B\n",
    "    print(A,\"*\",B,\"=\",res)\n",
    "elif op == 5:\n",
    "    res = A / B\n",
    "    print(A,\"/\",B,\"=\",res)\n",
    "elif op == 6:\n",
    "    res = B / A\n",
    "    print(B,\"/\",A,\"=\",res)\n",
    "elif op == 7:\n",
    "    res = A**B\n",
    "    print(A,\"**\",B,\"=\",res)\n",
    "elif op == 8:\n",
    "    res = B**A\n",
    "    print(B,\"**\",A,\"=\",res)\n",
    "else:\n",
    "    print(\"ERROR, el dato introducido no fue correcto\")"
   ]
  },
  {
   "cell_type": "markdown",
   "metadata": {},
   "source": [
    "### Ejercicio 3\n",
    "* Con loop while o for, realiza una lista de 10 números multiplos de 3, y después realiza una función de loop que sume todos los números dentro del arreglo."
   ]
  },
  {
   "cell_type": "code",
   "execution_count": 3,
   "metadata": {},
   "outputs": [
    {
     "name": "stdout",
     "output_type": "stream",
     "text": [
      "3  *  1  =  3\n",
      "3  *  2  =  6\n",
      "3  *  3  =  9\n",
      "3  *  4  =  12\n",
      "3  *  5  =  15\n",
      "3  *  6  =  18\n",
      "3  *  7  =  21\n",
      "3  *  8  =  24\n",
      "3  *  9  =  27\n",
      "3  *  10  =  30\n",
      "La suma de los 10 primeros multiplos de 3 es:  165\n"
     ]
    }
   ],
   "source": [
    "suma = 0\n",
    "lista = [3]\n",
    "for i in range(2,12):\n",
    "    lista.append(i*3)\n",
    "for i in range(0,10):\n",
    "    print(3, \" * \",i+1,\" = \",lista[i])\n",
    "    suma = suma + lista[i]\n",
    "    \n",
    "print(\"La suma de los 10 primeros multiplos de 3 es: \", suma)"
   ]
  },
  {
   "cell_type": "markdown",
   "metadata": {},
   "source": [
    "### Ejercicio 4.1\n",
    "* Con una función de if else, revisar si un número es par o es impar."
   ]
  },
  {
   "cell_type": "code",
   "execution_count": 4,
   "metadata": {},
   "outputs": [
    {
     "name": "stdout",
     "output_type": "stream",
     "text": [
      "Introduce un número: 15\n",
      "El número 15 es impar\n"
     ]
    }
   ],
   "source": [
    "n1 = int(input(\"Introduce un número: \"))\n",
    "\n",
    "residuo = n1 % 2\n",
    "if residuo == 0:\n",
    "    print(\"El número\",n1,\"es par\")\n",
    "else:\n",
    "    print(\"El número\",n1,\"es impar\")"
   ]
  },
  {
   "cell_type": "markdown",
   "metadata": {},
   "source": [
    "### Ejercicio 4.2\n",
    "* Con una función de if else, revisar si un número es primo o no."
   ]
  },
  {
   "cell_type": "code",
   "execution_count": 6,
   "metadata": {},
   "outputs": [
    {
     "name": "stdout",
     "output_type": "stream",
     "text": [
      "Introduce un número: 4\n",
      "El número 4 es NO es primo\n"
     ]
    }
   ],
   "source": [
    "n2 = int(input(\"Introduce un número: \"))\n",
    "bandera = 0\n",
    "residuo = 0\n",
    "\n",
    "if n2 == 1 or n2 == 2:\n",
    "    bandera = 0\n",
    "else:\n",
    "    for i in range(2,n2):\n",
    "        residuo = n2 % i\n",
    "        if residuo == 0:\n",
    "            bandera = 1\n",
    "    \n",
    "if bandera == 1:\n",
    "    print(\"El número\",n2,\"es NO es primo\")\n",
    "else:\n",
    "    print(\"El número\",n2,\"es primo\")\n"
   ]
  },
  {
   "cell_type": "markdown",
   "metadata": {},
   "source": [
    "### Ejercicio 5\n",
    "* Utilizando diferentes clases en python, crea una calculadora con los operadores básicos de suma, resta, multiplicación, división, y exponente."
   ]
  },
  {
   "cell_type": "code",
   "execution_count": 7,
   "metadata": {},
   "outputs": [
    {
     "name": "stdout",
     "output_type": "stream",
     "text": [
      "Introduce el primer número: 8\n",
      "Introduce el segundo número: 4\n",
      "Calculadora Básica\n",
      "1. Suma A + B\n",
      "2. Resta A - B\n",
      "3. Resta B - A\n",
      "4. Multiplicación A * B\n",
      "5. División A/B\n",
      "6. División B/A\n",
      "7. Exponente A**B\n",
      "8. Exponente B**A\n",
      "Introduce el número de la operación deseada: 7\n",
      "8 ** 4 = 4096\n"
     ]
    }
   ],
   "source": [
    "def Suma(a,b):\n",
    "    res = a+b\n",
    "    return res\n",
    "\n",
    "def Resta(a,b):\n",
    "    res = a-b\n",
    "    return res\n",
    "\n",
    "def Multi(a,b):\n",
    "    res = a*b\n",
    "    return res\n",
    "\n",
    "def Div(a,b):\n",
    "    res = a/b\n",
    "    return res\n",
    "\n",
    "def Exp(a,b):\n",
    "    res = a**b\n",
    "    return res\n",
    "\n",
    "A = int(input(\"Introduce el primer número: \"))\n",
    "B = int(input(\"Introduce el segundo número: \"))\n",
    "\n",
    "print(\"Calculadora Básica\")\n",
    "print(\"1. Suma A + B\")\n",
    "print(\"2. Resta A - B\")\n",
    "print(\"3. Resta B - A\")\n",
    "print(\"4. Multiplicación A * B\")\n",
    "print(\"5. División A/B\")\n",
    "print(\"6. División B/A\")\n",
    "print(\"7. Exponente A**B\")\n",
    "print(\"8. Exponente B**A\")\n",
    "op = int(input(\"Introduce el número de la operación deseada: \"))\n",
    "\n",
    "if op == 1:\n",
    "    print(A,\"+\",B,\"=\",Suma(A,B))\n",
    "elif op == 2:\n",
    "    print(A,\"-\",B,\"=\",Resta(A,B))\n",
    "elif op == 3:\n",
    "    print(B,\"-\",A,\"=\",Resta(B,A))\n",
    "elif op == 4:\n",
    "    print(A,\"*\",B,\"=\",Multi(A,B))\n",
    "elif op == 5:\n",
    "    print(A,\"/\",B,\"=\",Div(A,B))\n",
    "elif op == 6:\n",
    "    print(B,\"/\",A,\"=\",Div(B,A))\n",
    "elif op == 7:\n",
    "    print(A,\"**\",B,\"=\",Exp(A,B))\n",
    "elif op == 8:\n",
    "    print(B,\"**\",A,\"=\",Exp(B,A))\n",
    "else:\n",
    "    print(\"ERROR, el dato introducido no fue correcto\")"
   ]
  },
  {
   "cell_type": "markdown",
   "metadata": {},
   "source": [
    "## Ejercicios con estructuras básicas de python"
   ]
  },
  {
   "cell_type": "markdown",
   "metadata": {},
   "source": [
    "### Tuplas\n",
    "#### Ejercicio 6\n",
    "* Crear una variable flotante, integer, boleana y compleja e imprimir el tipo de variable que es."
   ]
  },
  {
   "cell_type": "code",
   "execution_count": 8,
   "metadata": {},
   "outputs": [
    {
     "name": "stdout",
     "output_type": "stream",
     "text": [
      "5.2  es  <class 'float'>\n",
      "3  es  <class 'int'>\n",
      "True  es  <class 'bool'>\n",
      "5j  es  <class 'complex'>\n"
     ]
    }
   ],
   "source": [
    "a = 5.2\n",
    "print(a,\" es \",type(a))\n",
    "\n",
    "b = 3\n",
    "print(b,\" es \",type(b))\n",
    "\n",
    "c = True\n",
    "print(c,\" es \",type(c))\n",
    "\n",
    "d = 5j\n",
    "print(d,\" es \",type(d))\n"
   ]
  },
  {
   "cell_type": "markdown",
   "metadata": {},
   "source": [
    "#### Ejercicio 7\n",
    "* Crear una tupla con valores enteros imprimir el primer y ultimo valor."
   ]
  },
  {
   "cell_type": "code",
   "execution_count": 9,
   "metadata": {},
   "outputs": [
    {
     "name": "stdout",
     "output_type": "stream",
     "text": [
      "El primer valor de la tupla es  1\n",
      "El último valor de la tupla es  6\n"
     ]
    }
   ],
   "source": [
    "tupla1 = (1, 2, 3, 4, 5, 6)\n",
    "print(\"El primer valor de la tupla es \",tupla1[0])\n",
    "print(\"El último valor de la tupla es \",tupla1[5])"
   ]
  },
  {
   "cell_type": "markdown",
   "metadata": {},
   "source": [
    "#### Ejercicio 8\n",
    "* Añadir 3 valores de string a la tupla."
   ]
  },
  {
   "cell_type": "code",
   "execution_count": 10,
   "metadata": {},
   "outputs": [
    {
     "name": "stdout",
     "output_type": "stream",
     "text": [
      "(1, 2, 3, 4, 5, 6, 'Alfonso', 'Llanos', 'Morales')\n"
     ]
    }
   ],
   "source": [
    "tupla1 = (1, 2, 3, 4, 5, 6)\n",
    "tupla1 = tupla1 + (\"Alfonso\", \"Llanos\", \"Morales\")\n",
    "print(tupla1)"
   ]
  },
  {
   "cell_type": "markdown",
   "metadata": {},
   "source": [
    "#### Ejercicio 9\n",
    "* Verificar si una variable existe dentro de la tupla."
   ]
  },
  {
   "cell_type": "code",
   "execution_count": 11,
   "metadata": {},
   "outputs": [
    {
     "data": {
      "text/plain": [
       "True"
      ]
     },
     "execution_count": 11,
     "metadata": {},
     "output_type": "execute_result"
    }
   ],
   "source": [
    "2 in tupla1"
   ]
  },
  {
   "cell_type": "code",
   "execution_count": 12,
   "metadata": {},
   "outputs": [
    {
     "data": {
      "text/plain": [
       "False"
      ]
     },
     "execution_count": 12,
     "metadata": {},
     "output_type": "execute_result"
    }
   ],
   "source": [
    "9 in tupla1"
   ]
  },
  {
   "cell_type": "markdown",
   "metadata": {},
   "source": [
    "### Listas\n",
    "#### Ejercicio 10\n",
    "* Crear una lista con 40 elementos aleatorios enteros."
   ]
  },
  {
   "cell_type": "code",
   "execution_count": 13,
   "metadata": {},
   "outputs": [
    {
     "name": "stdout",
     "output_type": "stream",
     "text": [
      "[48, 94, 28, 50, 12, 43, 63, 1, 77, 67, 59, 14, 21, 8, 29, 62, 73, 29, 92, 93, 92, 24, 62, 33, 23, 14, 49, 82, 83, 5, 59, 27, 66, 51, 36, 13, 45, 12, 43, 62]\n"
     ]
    }
   ],
   "source": [
    "import random as r\n",
    "L1 = []\n",
    "for i in range(0,40):\n",
    "    L1.append(r.randint(1,100))\n",
    "print(L1)"
   ]
  },
  {
   "cell_type": "markdown",
   "metadata": {},
   "source": [
    "#### Ejercicio 11\n",
    "* Con una funcion (def) crear dos listas nuevas a partir de la lista creada por números aleatorios, en la cual en una esten los elementos pares, y en la otra los elementos impares."
   ]
  },
  {
   "cell_type": "code",
   "execution_count": 14,
   "metadata": {},
   "outputs": [
    {
     "name": "stdout",
     "output_type": "stream",
     "text": [
      "La lista original es:  [48, 94, 28, 50, 12, 43, 63, 1, 77, 67, 59, 14, 21, 8, 29, 62, 73, 29, 92, 93, 92, 24, 62, 33, 23, 14, 49, 82, 83, 5, 59, 27, 66, 51, 36, 13, 45, 12, 43, 62]\n",
      "La lista de los pares es:  [48, 94, 28, 50, 12, 14, 8, 62, 92, 92, 24, 62, 14, 82, 66, 36, 12, 62]\n",
      "La lista de los impares es:  [43, 63, 1, 77, 67, 59, 21, 29, 73, 29, 93, 33, 23, 49, 83, 5, 59, 27, 51, 13, 45, 43]\n"
     ]
    }
   ],
   "source": [
    "Lpar = []\n",
    "Limpar = []\n",
    "\n",
    "def Fpar(L1):\n",
    "    for j in range(0,40):\n",
    "        residuo = L1[j] % 2\n",
    "        if residuo == 0:\n",
    "            Lpar.append(L1[j])\n",
    "        else:\n",
    "            Limpar.append(L1[j])\n",
    "    print(\"La lista de los pares es: \", Lpar)            \n",
    "    return Limpar\n",
    "\n",
    "print(\"La lista original es: \", L1)\n",
    "print(\"La lista de los impares es: \", Fpar(L1))\n"
   ]
  },
  {
   "cell_type": "markdown",
   "metadata": {},
   "source": [
    "#### Ejercicio 12\n",
    "* Crear dos variables con la longitud de ambas listas nuevas e imprimir las variables."
   ]
  },
  {
   "cell_type": "code",
   "execution_count": 15,
   "metadata": {},
   "outputs": [
    {
     "name": "stdout",
     "output_type": "stream",
     "text": [
      "La longitud de la lista par es:  18\n",
      "La longitud de la lista impar es:  22\n"
     ]
    }
   ],
   "source": [
    "long_Lpar = len(Lpar)\n",
    "long_Limpar = len(Limpar)\n",
    "print(\"La longitud de la lista par es: \", long_Lpar)\n",
    "print(\"La longitud de la lista impar es: \", long_Limpar)"
   ]
  },
  {
   "cell_type": "markdown",
   "metadata": {},
   "source": [
    "#### Ejercicio 13\n",
    "* Ordenar los elementos de la lista par de mayor a menor, y los de la lista impar de menor a mayor."
   ]
  },
  {
   "cell_type": "code",
   "execution_count": 16,
   "metadata": {},
   "outputs": [
    {
     "name": "stdout",
     "output_type": "stream",
     "text": [
      "La lista par ordenada de mayor a menor es:  [94, 92, 92, 82, 66, 62, 62, 62, 50, 48, 36, 28, 24, 14, 14, 12, 12, 8]\n",
      "La lista impar ordenada de menor a mayor es:  [1, 5, 13, 21, 23, 27, 29, 29, 33, 43, 43, 45, 49, 51, 59, 59, 63, 67, 73, 77, 83, 93]\n"
     ]
    }
   ],
   "source": [
    "Lpar.sort()\n",
    "Lpar.reverse()\n",
    "print(\"La lista par ordenada de mayor a menor es: \",Lpar)\n",
    "\n",
    "Limpar.sort()\n",
    "print(\"La lista impar ordenada de menor a mayor es: \",Limpar)"
   ]
  },
  {
   "cell_type": "markdown",
   "metadata": {},
   "source": [
    "#### Ejercicio 14\n",
    "* Utilizar al menos cuatro de las funciones de listas en python en la lista original de 40 elementos."
   ]
  },
  {
   "cell_type": "code",
   "execution_count": 17,
   "metadata": {},
   "outputs": [
    {
     "name": "stdout",
     "output_type": "stream",
     "text": [
      "[48, 94, 28, 50, 12, 43, 63, 1, 77, 67, 59, 14, 21, 8, 29, 62, 73, 29, 92, 93, 92, 24, 62, 33, 23, 14, 49, 82, 83, 5, 59, 27, 66, 51, 36, 13, 45, 12, 43, 62, 'Hola'] \n",
      "\n",
      "[48, 94, 28, 50, 12, 43, 63, 1, 77, 67, 59, 14, 21, 8, 29, 62, 73, 29, 92, 93, 92, 24, 62, 33, 23, 14, 49, 82, 83, 5, 59, 27, 66, 51, 36, 13, 45, 12, 43, 62] \n",
      "\n",
      "[48, 94, 28, 50, 12, 43, 63, 1, 77, 67, 59, 14, 21, 8, 29, 62, 73, 29, 92, 93, 92, 24, 62, 33, 23, 14, 49, 82, 83, 5, 59, 27, 66, 51, 36, 13, 45, 12, 43, 62, 5.5, True, False, 'Ok', 0.7514008455630351] \n",
      "\n",
      "[]\n"
     ]
    }
   ],
   "source": [
    "# Agregar un nuevo valor\n",
    "L1.append(\"Hola\")\n",
    "print(L1,\"\\n\")\n",
    "\n",
    "# Eliminar el último elemento\n",
    "L1.pop()\n",
    "print(L1,\"\\n\")\n",
    "\n",
    "#Extender otra lista\n",
    "L1.extend([5.5, True, False, \"Ok\", r.random()])\n",
    "print(L1,\"\\n\")\n",
    "\n",
    "#Eliminar los items de la lista\n",
    "L1.clear()\n",
    "print(L1)"
   ]
  },
  {
   "cell_type": "markdown",
   "metadata": {},
   "source": [
    "### Diccionarios\n",
    "#### Ejercicio 15\n",
    "* Crear un diccionario de 6 personas que conozcas con su primer nombre y su edad."
   ]
  },
  {
   "cell_type": "code",
   "execution_count": 18,
   "metadata": {},
   "outputs": [
    {
     "name": "stdout",
     "output_type": "stream",
     "text": [
      "{'Evelyn': 20, 'Magdaly': 19, 'Fer': 20, 'Alexis': 20, 'Bryan': 18, 'Gerardo': 21}\n"
     ]
    }
   ],
   "source": [
    "D1 = {'Evelyn':20, 'Magdaly':19, 'Fer':20, 'Alexis':20, 'Bryan':18, 'Gerardo':21  }\n",
    "print(D1)"
   ]
  },
  {
   "cell_type": "markdown",
   "metadata": {},
   "source": [
    "#### Ejercicio 16\n",
    "* Crear una lista con los valores de la edad y reacomodar la lista de menor a mayor valor."
   ]
  },
  {
   "cell_type": "code",
   "execution_count": 19,
   "metadata": {},
   "outputs": [
    {
     "name": "stdout",
     "output_type": "stream",
     "text": [
      "[20, 19, 20, 20, 18, 21]\n",
      "La lista ordenada de menor a mayor es:  [18, 19, 20, 20, 20, 21]\n"
     ]
    }
   ],
   "source": [
    "L1 = list(D1.values())\n",
    "print(L1)\n",
    "L1.sort()\n",
    "print(\"La lista ordenada de menor a mayor es: \", L1)"
   ]
  },
  {
   "cell_type": "markdown",
   "metadata": {},
   "source": [
    "#### Ejercicio 17\n",
    "* Usando el diccionario y un loop, imprimir solo los nombres."
   ]
  },
  {
   "cell_type": "code",
   "execution_count": 20,
   "metadata": {},
   "outputs": [
    {
     "name": "stdout",
     "output_type": "stream",
     "text": [
      "Evelyn\n",
      "Magdaly\n",
      "Fer\n",
      "Alexis\n",
      "Bryan\n",
      "Gerardo\n"
     ]
    }
   ],
   "source": [
    "for i in D1:\n",
    "    print(i)"
   ]
  },
  {
   "cell_type": "markdown",
   "metadata": {},
   "source": [
    "#### Ejercicio 18\n",
    "* Añadir dos personas nuevas a tu diccionario, incluyendo edad."
   ]
  },
  {
   "cell_type": "code",
   "execution_count": 21,
   "metadata": {},
   "outputs": [
    {
     "name": "stdout",
     "output_type": "stream",
     "text": [
      "{'Evelyn': 20, 'Magdaly': 19, 'Fer': 20, 'Alexis': 20, 'Bryan': 18, 'Gerardo': 21, 'Kevin': 15, 'Perla': 25, 'Valeria': 18}\n"
     ]
    }
   ],
   "source": [
    "D1['Kevin'] = 15\n",
    "D1['Perla'] = 25\n",
    "D1['Valeria'] = 18\n",
    "print(D1)"
   ]
  },
  {
   "cell_type": "markdown",
   "metadata": {},
   "source": [
    "### Sets\n",
    "#### Ejercicio 19\n",
    "* Crea un set con 100 números aleatorios enteros del 1 al 25."
   ]
  },
  {
   "cell_type": "code",
   "execution_count": 26,
   "metadata": {},
   "outputs": [
    {
     "name": "stdout",
     "output_type": "stream",
     "text": [
      "{1, 2, 3, 4, 5, 6, 7, 9, 10, 11, 12, 13, 14, 15, 16, 17, 18, 19, 20, 21, 22, 23, 24, 25}\n"
     ]
    }
   ],
   "source": [
    "import random as r\n",
    "S1 = set()\n",
    "for i in range(0,100):\n",
    "    S1.add(r.randint(1,25))\n",
    "print(S1)"
   ]
  },
  {
   "cell_type": "markdown",
   "metadata": {},
   "source": [
    "#### Ejercicio 20\n",
    "* Comprueba la longitud de tu set."
   ]
  },
  {
   "cell_type": "code",
   "execution_count": 27,
   "metadata": {},
   "outputs": [
    {
     "data": {
      "text/plain": [
       "24"
      ]
     },
     "execution_count": 27,
     "metadata": {},
     "output_type": "execute_result"
    }
   ],
   "source": [
    "len(S1)"
   ]
  },
  {
   "cell_type": "markdown",
   "metadata": {},
   "source": [
    "#### Ejercicio 21\n",
    "* Crea una lista de 5 números aleatorios del 1 al 10 y comprueba si cada valor aparece en el set inicial."
   ]
  },
  {
   "cell_type": "code",
   "execution_count": 28,
   "metadata": {},
   "outputs": [
    {
     "name": "stdout",
     "output_type": "stream",
     "text": [
      "La lista aleatoria es:  [1, 8, 1, 6, 3] \n",
      "\n",
      "El valor  1  está dentro del set original\n",
      "El valor  8  no está dentro del set original\n",
      "El valor  1  está dentro del set original\n",
      "El valor  6  está dentro del set original\n",
      "El valor  3  está dentro del set original\n"
     ]
    }
   ],
   "source": [
    "ListR2 = []\n",
    "for i in range(0,5):\n",
    "    ListR2.append(r.randint(1, 10))\n",
    "print(\"La lista aleatoria es: \", ListR2, \"\\n\")\n",
    "    \n",
    "for j in ListR2:\n",
    "    if j in S1:\n",
    "        print(\"El valor \",j,\" está dentro del set original\")\n",
    "    else:\n",
    "        print(\"El valor \",j,\" no está dentro del set original\")"
   ]
  },
  {
   "cell_type": "code",
   "execution_count": null,
   "metadata": {},
   "outputs": [],
   "source": []
  }
 ],
 "metadata": {
  "kernelspec": {
   "display_name": "Python 3",
   "language": "python",
   "name": "python3"
  },
  "language_info": {
   "codemirror_mode": {
    "name": "ipython",
    "version": 3
   },
   "file_extension": ".py",
   "mimetype": "text/x-python",
   "name": "python",
   "nbconvert_exporter": "python",
   "pygments_lexer": "ipython3",
   "version": "3.8.3"
  }
 },
 "nbformat": 4,
 "nbformat_minor": 4
}
